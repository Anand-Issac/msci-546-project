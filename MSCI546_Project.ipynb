{
  "nbformat": 4,
  "nbformat_minor": 0,
  "metadata": {
    "colab": {
      "provenance": []
    },
    "kernelspec": {
      "name": "python3",
      "display_name": "Python 3"
    },
    "language_info": {
      "name": "python"
    }
  },
  "cells": [
    {
      "cell_type": "code",
      "execution_count": 30,
      "metadata": {
        "colab": {
          "base_uri": "https://localhost:8080/"
        },
        "id": "0WxaM4RzUcIi",
        "outputId": "e655dbde-6264-4d90-c721-41302b451152"
      },
      "outputs": [
        {
          "output_type": "stream",
          "name": "stdout",
          "text": [
            "  PassengerId HomePlanet CryoSleep  Cabin  Destination   Age    VIP  \\\n",
            "0     0013_01      Earth      True  G/3/S  TRAPPIST-1e  27.0  False   \n",
            "1     0018_01      Earth     False  F/4/S  TRAPPIST-1e  19.0  False   \n",
            "2     0019_01     Europa      True  C/0/S  55 Cancri e  31.0  False   \n",
            "3     0021_01     Europa     False  C/1/S  TRAPPIST-1e  38.0  False   \n",
            "4     0023_01      Earth     False  F/5/S  TRAPPIST-1e  20.0  False   \n",
            "\n",
            "   RoomService  FoodCourt  ShoppingMall     Spa  VRDeck              Name  \n",
            "0          0.0        0.0           0.0     0.0     0.0   Nelly Carsoning  \n",
            "1          0.0        9.0           0.0  2823.0     0.0    Lerome Peckers  \n",
            "2          0.0        0.0           0.0     0.0     0.0   Sabih Unhearfus  \n",
            "3          0.0     6652.0           0.0   181.0   585.0  Meratz Caltilter  \n",
            "4         10.0        0.0         635.0     0.0     0.0   Brence Harperez  \n",
            "[ True  True  True ...  True False False]\n",
            "Accuracy of logistic regression classifier on test set: 0.79\n"
          ]
        },
        {
          "output_type": "stream",
          "name": "stderr",
          "text": [
            "/usr/local/lib/python3.8/dist-packages/sklearn/linear_model/_logistic.py:814: ConvergenceWarning: lbfgs failed to converge (status=1):\n",
            "STOP: TOTAL NO. of ITERATIONS REACHED LIMIT.\n",
            "\n",
            "Increase the number of iterations (max_iter) or scale the data as shown in:\n",
            "    https://scikit-learn.org/stable/modules/preprocessing.html\n",
            "Please also refer to the documentation for alternative solver options:\n",
            "    https://scikit-learn.org/stable/modules/linear_model.html#logistic-regression\n",
            "  n_iter_i = _check_optimize_result(\n"
          ]
        }
      ],
      "source": [
        "\"\"\"\n",
        "MSCI 546 Project Proposal (Group 10)\n",
        "February 7, 2023\n",
        "\n",
        "Vincent Chow\t\t20782868\n",
        "Anand Issac\t\t20784430\n",
        "Scott Fraser\t\t20761760\n",
        "Kokelan Nesarajah\t20790348\n",
        "\"\"\"\n",
        "\n",
        "#https://towardsdatascience.com/building-a-logistic-regression-in-python-step-by-step-becd4d56c9c8\n",
        "# this article provides a step by step tutorial on implementing logistic regression in python\n",
        "\n",
        "import pandas as pd \n",
        "import numpy as np\n",
        "\n",
        "train_data = pd.read_csv('./sample_data/train.csv')\n",
        "# Replace infinite updated data with nan: https://sparkbyexamples.com/pandas/pandas-drop-infinite-values-from-dataframe/#:~:text=pands%20Drop%20Infinite%20Values,NaN%2C%20Null%2FNone%20values.\n",
        "train_data.replace([np.inf, -np.inf], np.nan, inplace=True)\n",
        "# Drop rows with NaN\n",
        "train_data.dropna(inplace=True)\n",
        "#print(train_data.head())\n",
        "\n",
        "#print(train_data.shape)\n",
        "#print(list(train_data.columns))\n",
        "\n",
        "#train_data.groupby('Transported').mean()\n",
        "\n",
        "test_data = pd.read_csv('./sample_data/test.csv')\n",
        "# Replace infinite updated data with nan\n",
        "test_data.replace([np.inf, -np.inf], np.nan, inplace=True)\n",
        "# Drop rows with NaN\n",
        "test_data.dropna(inplace=True)\n",
        "print(test_data.head())\n",
        "#print(test_data[\"PassengerId\"])\n",
        "\n",
        "#print(train_data.shape)\n",
        "#print(list(test_data.columns))\n",
        "\n",
        "from sklearn.linear_model import LogisticRegression\n",
        "from sklearn import metrics\n",
        "from sklearn.model_selection import train_test_split\n",
        "\n",
        "#transform strings to encoded numericals\n",
        "#https://stackoverflow.com/a/49271663 \n",
        "\n",
        "from sklearn import preprocessing\n",
        "le = preprocessing.LabelEncoder()\n",
        "for column_name in train_data.columns:\n",
        "    if train_data[column_name].dtype == object:\n",
        "        train_data[column_name] = le.fit_transform(train_data[column_name])\n",
        "    else:\n",
        "        pass\n",
        "\n",
        "for column_name in test_data.columns:\n",
        "    if test_data[column_name].dtype == object:\n",
        "        test_data[column_name] = le.fit_transform(test_data[column_name])\n",
        "    else:\n",
        "        pass\n",
        "\n",
        "#print(train_data.head())\n",
        "\n",
        "\n",
        "x = train_data[['HomePlanet', 'CryoSleep', 'Cabin', 'Destination', 'Age', 'VIP', 'RoomService', 'FoodCourt', 'ShoppingMall', 'Spa', 'VRDeck']]\n",
        "y = train_data['Transported']\n",
        "\n",
        "x_train, x_test, y_train, y_test = train_test_split(x, y, test_size=0.3, random_state=0)\n",
        "\n",
        "\n",
        "logreg = LogisticRegression()\n",
        "logreg.fit(x_train, y_train)\n",
        "\n",
        "y_pred = logreg.predict(x_test)\n",
        "print(y_pred)\n",
        "print('Baseline accuracy of logreg classifier: {:.2f}'.format(logreg.score(x_test, y_test)))\n",
        "\n"
      ]
    },
    {
      "cell_type": "code",
      "source": [],
      "metadata": {
        "id": "vO8RSXnPU5BG"
      },
      "execution_count": null,
      "outputs": []
    }
  ]
}